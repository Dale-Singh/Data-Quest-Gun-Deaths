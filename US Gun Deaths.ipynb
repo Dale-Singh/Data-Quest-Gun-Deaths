{
 "cells": [
  {
   "cell_type": "markdown",
   "metadata": {},
   "source": [
    "Data Import\n",
    "-----------"
   ]
  },
  {
   "cell_type": "code",
   "execution_count": 32,
   "metadata": {
    "collapsed": false
   },
   "outputs": [
    {
     "name": "stdout",
     "output_type": "stream",
     "text": [
      "[['', 'year', 'month', 'intent', 'police', 'sex', 'age', 'race', 'hispanic', 'place', 'education'], ['1', '2012', '01', 'Suicide', '0', 'M', '34', 'Asian/Pacific Islander', '100', 'Home', '4'], ['2', '2012', '01', 'Suicide', '0', 'F', '21', 'White', '100', 'Street', '3'], ['3', '2012', '01', 'Suicide', '0', 'M', '60', 'White', '100', 'Other specified', '4'], ['4', '2012', '02', 'Suicide', '0', 'M', '64', 'White', '100', 'Home', '4']]\n"
     ]
    }
   ],
   "source": [
    "#Imported file relating to US gun deaths\n",
    "import csv\n",
    "\n",
    "file = open('guns.csv','r')\n",
    "read = csv.reader(file)\n",
    "data = list(read)\n",
    "\n",
    "print(data[:5])\n",
    "\n"
   ]
  },
  {
   "cell_type": "markdown",
   "metadata": {},
   "source": [
    "Splitting Header and Data Rows\n",
    "--------------------------"
   ]
  },
  {
   "cell_type": "code",
   "execution_count": 33,
   "metadata": {
    "collapsed": false
   },
   "outputs": [
    {
     "name": "stdout",
     "output_type": "stream",
     "text": [
      "['', 'year', 'month', 'intent', 'police', 'sex', 'age', 'race', 'hispanic', 'place', 'education']\n",
      "[['1', '2012', '01', 'Suicide', '0', 'M', '34', 'Asian/Pacific Islander', '100', 'Home', '4'], ['2', '2012', '01', 'Suicide', '0', 'F', '21', 'White', '100', 'Street', '3'], ['3', '2012', '01', 'Suicide', '0', 'M', '60', 'White', '100', 'Other specified', '4'], ['4', '2012', '02', 'Suicide', '0', 'M', '64', 'White', '100', 'Home', '4'], ['5', '2012', '02', 'Suicide', '0', 'M', '31', 'White', '100', 'Other specified', '2']]\n"
     ]
    }
   ],
   "source": [
    "#Split the header and data from the file\n",
    "\n",
    "headers = data[0]\n",
    "data = data[1:]\n",
    "\n",
    "print(headers)\n",
    "print(data[:5])"
   ]
  },
  {
   "cell_type": "markdown",
   "metadata": {},
   "source": [
    "Gun Deaths by Year\n",
    "------------------\n"
   ]
  },
  {
   "cell_type": "code",
   "execution_count": 34,
   "metadata": {
    "collapsed": false
   },
   "outputs": [
    {
     "name": "stdout",
     "output_type": "stream",
     "text": [
      "{'2013': 33636, '2012': 33563, '2014': 33599}\n"
     ]
    }
   ],
   "source": [
    "#Extracted the Years column\n",
    "years = [x[1] for x in data]\n",
    "\n",
    "#A count detailing gun deaths by year\n",
    "year_counts ={}\n",
    "for val in years:\n",
    "    if val not in year_counts:\n",
    "        year_counts[val] = 1\n",
    "    else:\n",
    "        year_counts[val] = year_counts[val] + 1\n",
    "\n",
    "print(year_counts)"
   ]
  },
  {
   "cell_type": "markdown",
   "metadata": {},
   "source": [
    "Gun Deaths by Year and Month\n",
    "----------------------------"
   ]
  },
  {
   "cell_type": "code",
   "execution_count": 35,
   "metadata": {
    "collapsed": false
   },
   "outputs": [
    {
     "name": "stdout",
     "output_type": "stream",
     "text": [
      "{datetime.datetime(2013, 6, 1, 0, 0): 2920, datetime.datetime(2013, 1, 1, 0, 0): 2864, datetime.datetime(2012, 5, 1, 0, 0): 2999, datetime.datetime(2014, 7, 1, 0, 0): 2884, datetime.datetime(2014, 3, 1, 0, 0): 2684, datetime.datetime(2014, 6, 1, 0, 0): 2931, datetime.datetime(2013, 10, 1, 0, 0): 2808, datetime.datetime(2013, 5, 1, 0, 0): 2806, datetime.datetime(2013, 4, 1, 0, 0): 2798, datetime.datetime(2013, 8, 1, 0, 0): 2859, datetime.datetime(2012, 3, 1, 0, 0): 2743, datetime.datetime(2012, 4, 1, 0, 0): 2795, datetime.datetime(2014, 2, 1, 0, 0): 2361, datetime.datetime(2012, 2, 1, 0, 0): 2357, datetime.datetime(2013, 9, 1, 0, 0): 2742, datetime.datetime(2013, 7, 1, 0, 0): 3079, datetime.datetime(2014, 9, 1, 0, 0): 2914, datetime.datetime(2012, 7, 1, 0, 0): 3026, datetime.datetime(2014, 1, 1, 0, 0): 2651, datetime.datetime(2012, 6, 1, 0, 0): 2826, datetime.datetime(2012, 9, 1, 0, 0): 2852, datetime.datetime(2014, 5, 1, 0, 0): 2864, datetime.datetime(2012, 10, 1, 0, 0): 2733, datetime.datetime(2012, 11, 1, 0, 0): 2729, datetime.datetime(2012, 12, 1, 0, 0): 2791, datetime.datetime(2014, 4, 1, 0, 0): 2862, datetime.datetime(2012, 8, 1, 0, 0): 2954, datetime.datetime(2013, 3, 1, 0, 0): 2862, datetime.datetime(2014, 10, 1, 0, 0): 2865, datetime.datetime(2013, 2, 1, 0, 0): 2375, datetime.datetime(2013, 12, 1, 0, 0): 2765, datetime.datetime(2012, 1, 1, 0, 0): 2758, datetime.datetime(2014, 8, 1, 0, 0): 2970, datetime.datetime(2014, 11, 1, 0, 0): 2756, datetime.datetime(2014, 12, 1, 0, 0): 2857, datetime.datetime(2013, 11, 1, 0, 0): 2758}\n"
     ]
    }
   ],
   "source": [
    "import datetime\n",
    "\n",
    "#Created a list of dates by extracting and combining the Years and Months\n",
    "#column in data\n",
    "dates = [datetime.datetime(year=int(x[1]), month=int(x[2]), day=1) for x in data]\n",
    "\n",
    "#A count detailing gun deaths by year and month\n",
    "date_counts = {}\n",
    "for x in dates:\n",
    "    if x not in date_counts:\n",
    "        date_counts[x] = 1\n",
    "    else:\n",
    "        date_counts[x] = date_counts[x] + 1\n",
    "\n",
    "print(date_counts)  "
   ]
  },
  {
   "cell_type": "markdown",
   "metadata": {},
   "source": [
    "Gun Deaths by Gender\n",
    "--------------------"
   ]
  },
  {
   "cell_type": "code",
   "execution_count": 36,
   "metadata": {
    "collapsed": false
   },
   "outputs": [
    {
     "name": "stdout",
     "output_type": "stream",
     "text": [
      "{'F': 14449, 'M': 86349}\n"
     ]
    }
   ],
   "source": [
    "#Sex column extratced\n",
    "sex = [x[5] for x in data]\n",
    "\n",
    "#A count detailing the death rate for each gender represented\n",
    "sex_counts = {}\n",
    "for x in sex:\n",
    "    if x not in sex_counts:\n",
    "        sex_counts[x] = 1\n",
    "    else:\n",
    "        sex_counts[x] = sex_counts[x] + 1\n",
    "\n",
    "print(sex_counts)"
   ]
  },
  {
   "cell_type": "markdown",
   "metadata": {},
   "source": [
    "Gun Deaths by Ethnic Group\n",
    "---------------------------"
   ]
  },
  {
   "cell_type": "code",
   "execution_count": 37,
   "metadata": {
    "collapsed": false
   },
   "outputs": [
    {
     "name": "stdout",
     "output_type": "stream",
     "text": [
      "{'White': 66237, 'Asian/Pacific Islander': 1326, 'Black': 23296, 'Native American/Native Alaskan': 917, 'Hispanic': 9022}\n"
     ]
    }
   ],
   "source": [
    "#Race column extracted\n",
    "race = [x[7] for x in data]\n",
    "\n",
    "#A count detailing the death rate for each ethnic group represented\n",
    "race_counts = {}\n",
    "for x in race:\n",
    "    if x not in race_counts:\n",
    "        race_counts[x] = 1\n",
    "    else:\n",
    "        race_counts[x] = race_counts[x] + 1\n",
    "\n",
    "print(race_counts)"
   ]
  },
  {
   "cell_type": "markdown",
   "metadata": {},
   "source": [
    "Analysis\n",
    "=========\n",
    "\n",
    "Gender:\n",
    "-------\n",
    "\n",
    "The counts show that approximately 86% of all gun deaths are attributed to men\n",
    "from 2012 to 2014.\n",
    "\n",
    "Ethnic Group:\n",
    "-------------\n",
    "\n",
    "Deaths attributed to whites are considerably larger than the other\n",
    "ethnic groups. Although, without knowing the volumes of each ethnic group\n",
    "within the population it is unclear whether this is a significant proportion.\n",
    "\n",
    "Next Steps:\n",
    "-----------\n",
    "\n",
    "It would be illuminating to overlay data giving insight to the US volumes\n",
    "of each ethnic group within the population."
   ]
  },
  {
   "cell_type": "markdown",
   "metadata": {},
   "source": [
    "Census Data Import\n",
    "---------------"
   ]
  },
  {
   "cell_type": "code",
   "execution_count": 38,
   "metadata": {
    "collapsed": false
   },
   "outputs": [
    {
     "name": "stdout",
     "output_type": "stream",
     "text": [
      "[['Id', 'Year', 'Id', 'Sex', 'Id', 'Hispanic Origin', 'Id', 'Id2', 'Geography', 'Total', 'Race Alone - White', 'Race Alone - Hispanic', 'Race Alone - Black or African American', 'Race Alone - American Indian and Alaska Native', 'Race Alone - Asian', 'Race Alone - Native Hawaiian and Other Pacific Islander', 'Two or More Races'], ['cen42010', 'April 1, 2010 Census', 'totsex', 'Both Sexes', 'tothisp', 'Total', '0100000US', '', 'United States', '308745538', '197318956', '44618105', '40250635', '3739506', '15159516', '674625', '6984195']]\n"
     ]
    }
   ],
   "source": [
    "#reading in 2010 Census data\n",
    "file2 = open('census.csv', 'r')\n",
    "read2 = csv.reader(file2)\n",
    "census = list(read2)\n",
    "\n",
    "print(census)"
   ]
  },
  {
   "cell_type": "markdown",
   "metadata": {},
   "source": [
    "Death Rate per 100k for Each Ethnic Group\n",
    "--------------------------------"
   ]
  },
  {
   "cell_type": "code",
   "execution_count": 39,
   "metadata": {
    "collapsed": false
   },
   "outputs": [
    {
     "name": "stdout",
     "output_type": "stream",
     "text": [
      "{'White': 33.56849303419181, 'Asian/Pacific Islander': 8.374309664161762, 'Black': 57.8773477735196, 'Native American/Native Alaskan': 24.521955573811088, 'Hispanic': 20.220491210910907}\n"
     ]
    }
   ],
   "source": [
    "#Re-mapping the census data to use the same naming conventions found in 'data'\n",
    "mapping = {'Asian/Pacific Islander': 15834141,\n",
    "           'Black': 40250635,\n",
    "           'Hispanic': 44618105,\n",
    "           'Native American/Native Alaskan': 3739506,\n",
    "           'White': 197318956}\n",
    "\n",
    "#A count detailing the death rate for each ethnic group represented as\n",
    "#a proportion of 100k people.\n",
    "race_per_hundredk = {}\n",
    "for key, val in race_counts.items():\n",
    "    race_per_hundredk[key] = 100000 * (val / mapping[key])\n",
    "\n",
    "print(race_per_hundredk)"
   ]
  },
  {
   "cell_type": "markdown",
   "metadata": {},
   "source": [
    "Homicide Death Rate per 100k for Each Ethnic  Group\n",
    "------------------------------------------"
   ]
  },
  {
   "cell_type": "code",
   "execution_count": 40,
   "metadata": {
    "collapsed": false
   },
   "outputs": [
    {
     "name": "stdout",
     "output_type": "stream",
     "text": [
      "{'White': 4.6356417981453335, 'Asian/Pacific Islander': 3.530346230970155, 'Black': 48.471284987180944, 'Native American/Native Alaskan': 8.717729026240365, 'Hispanic': 12.627161104219914}\n"
     ]
    }
   ],
   "source": [
    "#This section looks at homicide death rates for each ethnic group\n",
    "\n",
    "#The desired columns are extracted\n",
    "intent = [x[3] for x in data]\n",
    "races = [x[7] for x in data]\n",
    "\n",
    "#The code loops through the races list and counts gun deaths that have an intent\n",
    "#of homicide and places those counts into the homicide_race_counts dictionary \n",
    "homicide_race_counts = {}\n",
    "for i, race in enumerate(races):\n",
    "    if intent[i] == 'Homicide':\n",
    "        if races[i] not in homicide_race_counts:\n",
    "            homicide_race_counts[race] = 1\n",
    "        else:\n",
    "            homicide_race_counts[race] = homicide_race_counts[race] + 1\n",
    "\n",
    "homicide_race_per_hundredk = {}\n",
    "\n",
    "for key, val in homicide_race_counts.items():\n",
    "    homicide_race_per_hundredk[key] = 100000 * (val / mapping[key])\n",
    "\n",
    "print(homicide_race_per_hundredk)"
   ]
  },
  {
   "cell_type": "markdown",
   "metadata": {},
   "source": [
    "Homicides by Year and Month\n",
    "---------------------------"
   ]
  },
  {
   "cell_type": "code",
   "execution_count": 42,
   "metadata": {
    "collapsed": false
   },
   "outputs": [
    {
     "name": "stdout",
     "output_type": "stream",
     "text": [
      "{datetime.datetime(2013, 6, 1, 0, 0): 1066, datetime.datetime(2013, 1, 1, 0, 0): 986, datetime.datetime(2012, 5, 1, 0, 0): 1003, datetime.datetime(2014, 7, 1, 0, 0): 972, datetime.datetime(2014, 3, 1, 0, 0): 891, datetime.datetime(2014, 6, 1, 0, 0): 1020, datetime.datetime(2013, 10, 1, 0, 0): 1009, datetime.datetime(2013, 5, 1, 0, 0): 955, datetime.datetime(2013, 4, 1, 0, 0): 916, datetime.datetime(2013, 8, 1, 0, 0): 1000, datetime.datetime(2012, 3, 1, 0, 0): 966, datetime.datetime(2012, 4, 1, 0, 0): 999, datetime.datetime(2014, 2, 1, 0, 0): 708, datetime.datetime(2012, 2, 1, 0, 0): 749, datetime.datetime(2013, 9, 1, 0, 0): 954, datetime.datetime(2013, 7, 1, 0, 0): 1137, datetime.datetime(2014, 9, 1, 0, 0): 942, datetime.datetime(2012, 7, 1, 0, 0): 1160, datetime.datetime(2014, 1, 1, 0, 0): 871, datetime.datetime(2012, 6, 1, 0, 0): 1044, datetime.datetime(2012, 9, 1, 0, 0): 1070, datetime.datetime(2014, 5, 1, 0, 0): 1018, datetime.datetime(2012, 10, 1, 0, 0): 979, datetime.datetime(2012, 12, 1, 0, 0): 1083, datetime.datetime(2013, 12, 1, 0, 0): 1028, datetime.datetime(2014, 4, 1, 0, 0): 930, datetime.datetime(2012, 8, 1, 0, 0): 1090, datetime.datetime(2013, 3, 1, 0, 0): 923, datetime.datetime(2014, 10, 1, 0, 0): 980, datetime.datetime(2013, 2, 1, 0, 0): 721, datetime.datetime(2012, 11, 1, 0, 0): 978, datetime.datetime(2012, 1, 1, 0, 0): 972, datetime.datetime(2014, 8, 1, 0, 0): 1035, datetime.datetime(2014, 11, 1, 0, 0): 962, datetime.datetime(2014, 12, 1, 0, 0): 1080, datetime.datetime(2013, 11, 1, 0, 0): 979}\n"
     ]
    }
   ],
   "source": [
    "#This section looks at homicide deaths by year and month\n",
    "homicide_year_month = {}\n",
    "for key, val in enumerate(dates):\n",
    "    if intent[key] == 'Homicide':\n",
    "        if val not in homicide_year_month:\n",
    "            homicide_year_month[val] = 1\n",
    "        else:\n",
    "            homicide_year_month[val] = homicide_year_month[val] + 1\n",
    "            \n",
    "print(homicide_year_month)\n",
    "    "
   ]
  },
  {
   "cell_type": "markdown",
   "metadata": {},
   "source": [
    "Analysis\n",
    "====\n",
    "\n",
    "Ethnic Group Death Rate:\n",
    "--------------\n",
    "The Census data overlay shows that Blacks as an ethnic group have a disproportionate gun death rate in comparison to the the other races. Their death rate is almost 2 times greater than Whites; the second largest death rate out of the races.\n",
    "\n",
    "Ethnic Group Death Rate by Homicide:\n",
    "--------------------------------------\n",
    "\n",
    "Looking specifically at homicidal deaths by ethnic group, Blacks once again have the highest homicidal death rate. They are disproportionately greater than the other races and have a death rate that is approximately 4 times greater than Hispanic; the ethnic group to exhibit the second largest death rate.\n",
    "\n",
    "Homicides by Year and Month:\n",
    "--------------------------------------------\n",
    "The data clearly shows a seasonal pattern, whereby, homicidal gun deaths peak during June and December. Both these times of the year (particularly December) are months which place emphasis on family engagements."
   ]
  },
  {
   "cell_type": "code",
   "execution_count": null,
   "metadata": {
    "collapsed": true
   },
   "outputs": [],
   "source": []
  }
 ],
 "metadata": {
  "kernelspec": {
   "display_name": "Python 3",
   "language": "python",
   "name": "python3"
  },
  "language_info": {
   "codemirror_mode": {
    "name": "ipython",
    "version": 3
   },
   "file_extension": ".py",
   "mimetype": "text/x-python",
   "name": "python",
   "nbconvert_exporter": "python",
   "pygments_lexer": "ipython3",
   "version": "3.4.3"
  }
 },
 "nbformat": 4,
 "nbformat_minor": 0
}
